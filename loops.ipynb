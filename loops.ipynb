{
 "cells": [
  {
   "cell_type": "markdown",
   "metadata": {},
   "source": [
    "Code taken from [PythonSpot](https://pythonspot.com/loops/)"
   ]
  },
  {
   "cell_type": "markdown",
   "metadata": {},
   "source": [
    "# Loops"
   ]
  },
  {
   "cell_type": "markdown",
   "metadata": {},
   "source": [
    "## For Loops\n",
    "We can iterate through a data structure (like a list) using a for loop"
   ]
  },
  {
   "cell_type": "code",
   "execution_count": 2,
   "metadata": {},
   "outputs": [
    {
     "name": "stdout",
     "output_type": "stream",
     "text": [
      "Apples\n",
      "Bananas\n",
      "Oranges\n",
      "Mangoes\n"
     ]
    }
   ],
   "source": [
    "items = [ \"Apples\",\"Bananas\",\"Oranges\",\"Mangoes\" ]\n",
    " \n",
    "for item in items:\n",
    "    print(item)"
   ]
  },
  {
   "cell_type": "markdown",
   "metadata": {},
   "source": [
    "## While Loops\n",
    "If you are unsure how many times a block of code needs to be repeated, a while loop may be useful."
   ]
  },
  {
   "cell_type": "code",
   "execution_count": null,
   "metadata": {},
   "outputs": [],
   "source": [
    "correctNumber = 5\n",
    "guess = 0\n",
    " \n",
    "while guess != correctNumber:\n",
    "    guess = int(input(\"Guess the number: \"))\n",
    " \n",
    "    if guess != correctNumber:\n",
    "        print('False guess')\n",
    " \n",
    "print('You guessed the correct number')"
   ]
  }
 ],
 "metadata": {
  "kernelspec": {
   "display_name": "Python 3",
   "language": "python",
   "name": "python3"
  },
  "language_info": {
   "codemirror_mode": {
    "name": "ipython",
    "version": 3
   },
   "file_extension": ".py",
   "mimetype": "text/x-python",
   "name": "python",
   "nbconvert_exporter": "python",
   "pygments_lexer": "ipython3",
   "version": "3.6.3"
  }
 },
 "nbformat": 4,
 "nbformat_minor": 2
}
